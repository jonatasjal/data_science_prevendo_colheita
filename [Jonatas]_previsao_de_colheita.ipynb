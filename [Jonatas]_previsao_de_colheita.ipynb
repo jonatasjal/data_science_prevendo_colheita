{
  "nbformat": 4,
  "nbformat_minor": 0,
  "metadata": {
    "colab": {
      "name": "[Jonatas] previsao_de_colheita.ipynb",
      "provenance": [],
      "collapsed_sections": []
    },
    "kernelspec": {
      "name": "python3",
      "display_name": "Python 3"
    },
    "language_info": {
      "name": "python"
    }
  },
  "cells": [
    {
      "cell_type": "markdown",
      "source": [
        "# **PREVENDO RESULTADO DE UMA COLHEITA**"
      ],
      "metadata": {
        "id": "-gBKQ_iHnCWG"
      }
    },
    {
      "cell_type": "markdown",
      "source": [
        "## **Problema de Negócio**\n",
        "\n",
        "Nosso objetivo neste projeto é criar um modelo para prever o resultado da temporada de colheita, danto total atenção a 3 pontos, que são:\n",
        "\n",
        " **1. Saudável (viva)**\n",
        "\n",
        " **2. Danificada por pesticidas** ou \n",
        " \n",
        " **3. Danificada por outros motivos.**\n",
        "\n",
        " * nosso TARGET é **multiclasses**, avaliando se é saudável ou não(*danificada por pesticidas ou por outros motivos*)\n",
        "\n",
        "Nossa base de dados é baseada em safras colhidas por outros agricultores no final da temporada de colheita. \n",
        "\n",
        "--\n",
        "\n",
        "-\n",
        "\n",
        "Utilizaremos o conceito de **agricultura inteligente** que torna a agricultura mais eficiente e eficaz com a ajuda de algoritmos de alta precisão.\n",
        "\n",
        "O **Machine Learning** ajuda na quantificação e compreensão dos processos intensivos de dados em ambientes operacionais agrícolas, estando presente em todo o ciclo de cultivo e colheita:\n",
        "\n",
        "- começa com o plantio de uma semente no solo\n",
        "- preparo do solo, procriação de sementes e medição da alimentação de água\n",
        "- termina quando as redes neurais fazem a colheita determinando a maturação com a ajuda da visão computacional.\n"
      ],
      "metadata": {
        "id": "LSKit_dwnAKI"
      }
    },
    {
      "cell_type": "markdown",
      "source": [
        "---"
      ],
      "metadata": {
        "id": "IfUdRyyapWmh"
      }
    },
    {
      "cell_type": "markdown",
      "source": [
        "## **O que é possível fazer como Ciencia de Dados**"
      ],
      "metadata": {
        "id": "F9KxH6s7pdlo"
      }
    },
    {
      "cell_type": "markdown",
      "source": [
        "- Previsão de Demanda dos Produtos e de Insumos para produção\n",
        "- Otimização da Cadeia de Suprimentos\n",
        "- Detecção e Prevenção de Pragas\n",
        "- Otimização da lavoura\n",
        "- Inspeção Visual\n",
        "- Máquinas Autônomas\n",
        "- Gerenciamento de Água\n",
        "- Previsão da Qualidade da Colheita\n",
        "- Detecção de Ervas Daninhas"
      ],
      "metadata": {
        "id": "lOg-aYiIpiSg"
      }
    },
    {
      "cell_type": "markdown",
      "source": [
        "---"
      ],
      "metadata": {
        "id": "kPvZdBifpkx3"
      }
    },
    {
      "cell_type": "markdown",
      "source": [
        "## **Variáveis identificadas:**"
      ],
      "metadata": {
        "id": "QuB8gzYGnwYQ"
      }
    },
    {
      "cell_type": "markdown",
      "source": [
        "1. **ID - UniqueID** - identifica a lavoura\n",
        "2.**Estimated_Insects_Count** - Contagem estimada de insetos por metro quadrado\n",
        "3. **Crop_Type** - Categoria de cultivo (0,1)\n",
        "4. **Tipo_do solo** - Categoria do solo (0,1)\n",
        "5. **Pesticide_Use_Category** - Tipo de uso de pesticidas (1- 6. Nunca, 2-Usado anteriormente, 3-Usando atualmente)\n",
        "7. **Number_Doses_Week** - Número de doses por semana\n",
        "8. **Number_Weeks_Used** - Número de semanas usadas\n",
        "9. **Number_Weeks_Quit** - Número de semanas de desistência\n",
        "10. **Temporada** - Categoria Temporada (1,2,3)\n",
        "11. **Crop_Damage** - Categoria de dano de cultivo (0 = vivo, 1 = dano devido a outras causas, 2 = dano devido a pesticidas)"
      ],
      "metadata": {
        "id": "FZrYXViQnzqv"
      }
    },
    {
      "cell_type": "markdown",
      "source": [
        "---"
      ],
      "metadata": {
        "id": "tlkAWkAepm4_"
      }
    },
    {
      "cell_type": "markdown",
      "source": [
        "# **ANÁLISE EXPLORATÓRIA**"
      ],
      "metadata": {
        "id": "afYeoemtpoyP"
      }
    },
    {
      "cell_type": "code",
      "source": [
        "# Instalação do catboost\n",
        "!pip3 install catboost"
      ],
      "metadata": {
        "id": "Q3sLWB9dofYm",
        "colab": {
          "base_uri": "https://localhost:8080/"
        },
        "outputId": "861028fb-da5c-45c5-d71b-21abca8b5135"
      },
      "execution_count": 1,
      "outputs": [
        {
          "output_type": "stream",
          "name": "stdout",
          "text": [
            "Collecting catboost\n",
            "  Downloading catboost-1.0.5-cp37-none-manylinux1_x86_64.whl (76.6 MB)\n",
            "\u001b[K     |████████████████████████████████| 76.6 MB 1.3 MB/s \n",
            "\u001b[?25hRequirement already satisfied: numpy>=1.16.0 in /usr/local/lib/python3.7/dist-packages (from catboost) (1.21.5)\n",
            "Requirement already satisfied: plotly in /usr/local/lib/python3.7/dist-packages (from catboost) (5.5.0)\n",
            "Requirement already satisfied: six in /usr/local/lib/python3.7/dist-packages (from catboost) (1.15.0)\n",
            "Requirement already satisfied: matplotlib in /usr/local/lib/python3.7/dist-packages (from catboost) (3.2.2)\n",
            "Requirement already satisfied: scipy in /usr/local/lib/python3.7/dist-packages (from catboost) (1.4.1)\n",
            "Requirement already satisfied: pandas>=0.24.0 in /usr/local/lib/python3.7/dist-packages (from catboost) (1.3.5)\n",
            "Requirement already satisfied: graphviz in /usr/local/lib/python3.7/dist-packages (from catboost) (0.10.1)\n",
            "Requirement already satisfied: pytz>=2017.3 in /usr/local/lib/python3.7/dist-packages (from pandas>=0.24.0->catboost) (2018.9)\n",
            "Requirement already satisfied: python-dateutil>=2.7.3 in /usr/local/lib/python3.7/dist-packages (from pandas>=0.24.0->catboost) (2.8.2)\n",
            "Requirement already satisfied: cycler>=0.10 in /usr/local/lib/python3.7/dist-packages (from matplotlib->catboost) (0.11.0)\n",
            "Requirement already satisfied: kiwisolver>=1.0.1 in /usr/local/lib/python3.7/dist-packages (from matplotlib->catboost) (1.4.2)\n",
            "Requirement already satisfied: pyparsing!=2.0.4,!=2.1.2,!=2.1.6,>=2.0.1 in /usr/local/lib/python3.7/dist-packages (from matplotlib->catboost) (3.0.8)\n",
            "Requirement already satisfied: typing-extensions in /usr/local/lib/python3.7/dist-packages (from kiwisolver>=1.0.1->matplotlib->catboost) (4.1.1)\n",
            "Requirement already satisfied: tenacity>=6.2.0 in /usr/local/lib/python3.7/dist-packages (from plotly->catboost) (8.0.1)\n",
            "Installing collected packages: catboost\n",
            "Successfully installed catboost-1.0.5\n"
          ]
        }
      ]
    },
    {
      "cell_type": "code",
      "source": [
        "# Importação de pacotes\n",
        "import pandas as pd\n",
        "import numpy as np\n",
        "import seaborn as sns\n",
        "from sklearn.model_selection import train_test_split\n",
        "from catboost import CatBoostClassifier\n",
        "import warnings\n",
        "warnings.filterwarnings(\"ignore\")"
      ],
      "metadata": {
        "id": "9Vh2mg94rQKR"
      },
      "execution_count": 2,
      "outputs": []
    },
    {
      "cell_type": "markdown",
      "source": [
        "**Improtando base de dados**"
      ],
      "metadata": {
        "id": "95Xqfkyvs5qY"
      }
    },
    {
      "cell_type": "code",
      "source": [
        "# Base de dados\n",
        "dataset = pd.read_csv('treino.csv')"
      ],
      "metadata": {
        "id": "JHs6iU3GsZOf"
      },
      "execution_count": 3,
      "outputs": []
    },
    {
      "cell_type": "code",
      "source": [
        "dataset.head(10)"
      ],
      "metadata": {
        "id": "6qFpBT9tsizx",
        "colab": {
          "base_uri": "https://localhost:8080/",
          "height": 362
        },
        "outputId": "5d92b362-a588-497f-a5a2-c3877f4108bf"
      },
      "execution_count": 4,
      "outputs": [
        {
          "output_type": "execute_result",
          "data": {
            "text/plain": [
              "          ID  Estimated_Insects_Count  Crop_Type  Soil_Type  \\\n",
              "0  F00000001                      188          1          0   \n",
              "1  F00000003                      209          1          0   \n",
              "2  F00000004                      257          1          0   \n",
              "3  F00000005                      257          1          1   \n",
              "4  F00000006                      342          1          0   \n",
              "5  F00000008                      448          0          1   \n",
              "6  F00000009                      448          0          1   \n",
              "7  F00000010                      577          1          0   \n",
              "8  F00000012                      731          0          0   \n",
              "9  F00000020                     1132          1          0   \n",
              "\n",
              "   Pesticide_Use_Category  Number_Doses_Week  Number_Weeks_Used  \\\n",
              "0                       1                  0                0.0   \n",
              "1                       1                  0                0.0   \n",
              "2                       1                  0                0.0   \n",
              "3                       1                  0                0.0   \n",
              "4                       1                  0                0.0   \n",
              "5                       1                  0                NaN   \n",
              "6                       1                  0                NaN   \n",
              "7                       1                  0                0.0   \n",
              "8                       1                  0                0.0   \n",
              "9                       1                  0                0.0   \n",
              "\n",
              "   Number_Weeks_Quit  Season  Crop_Damage  \n",
              "0                  0       1            0  \n",
              "1                  0       2            1  \n",
              "2                  0       2            1  \n",
              "3                  0       2            1  \n",
              "4                  0       2            1  \n",
              "5                  0       2            1  \n",
              "6                  0       2            1  \n",
              "7                  0       1            2  \n",
              "8                  0       2            0  \n",
              "9                  0       1            2  "
            ],
            "text/html": [
              "\n",
              "  <div id=\"df-58ada48c-7ec9-4d15-ac71-2f551c0043ef\">\n",
              "    <div class=\"colab-df-container\">\n",
              "      <div>\n",
              "<style scoped>\n",
              "    .dataframe tbody tr th:only-of-type {\n",
              "        vertical-align: middle;\n",
              "    }\n",
              "\n",
              "    .dataframe tbody tr th {\n",
              "        vertical-align: top;\n",
              "    }\n",
              "\n",
              "    .dataframe thead th {\n",
              "        text-align: right;\n",
              "    }\n",
              "</style>\n",
              "<table border=\"1\" class=\"dataframe\">\n",
              "  <thead>\n",
              "    <tr style=\"text-align: right;\">\n",
              "      <th></th>\n",
              "      <th>ID</th>\n",
              "      <th>Estimated_Insects_Count</th>\n",
              "      <th>Crop_Type</th>\n",
              "      <th>Soil_Type</th>\n",
              "      <th>Pesticide_Use_Category</th>\n",
              "      <th>Number_Doses_Week</th>\n",
              "      <th>Number_Weeks_Used</th>\n",
              "      <th>Number_Weeks_Quit</th>\n",
              "      <th>Season</th>\n",
              "      <th>Crop_Damage</th>\n",
              "    </tr>\n",
              "  </thead>\n",
              "  <tbody>\n",
              "    <tr>\n",
              "      <th>0</th>\n",
              "      <td>F00000001</td>\n",
              "      <td>188</td>\n",
              "      <td>1</td>\n",
              "      <td>0</td>\n",
              "      <td>1</td>\n",
              "      <td>0</td>\n",
              "      <td>0.0</td>\n",
              "      <td>0</td>\n",
              "      <td>1</td>\n",
              "      <td>0</td>\n",
              "    </tr>\n",
              "    <tr>\n",
              "      <th>1</th>\n",
              "      <td>F00000003</td>\n",
              "      <td>209</td>\n",
              "      <td>1</td>\n",
              "      <td>0</td>\n",
              "      <td>1</td>\n",
              "      <td>0</td>\n",
              "      <td>0.0</td>\n",
              "      <td>0</td>\n",
              "      <td>2</td>\n",
              "      <td>1</td>\n",
              "    </tr>\n",
              "    <tr>\n",
              "      <th>2</th>\n",
              "      <td>F00000004</td>\n",
              "      <td>257</td>\n",
              "      <td>1</td>\n",
              "      <td>0</td>\n",
              "      <td>1</td>\n",
              "      <td>0</td>\n",
              "      <td>0.0</td>\n",
              "      <td>0</td>\n",
              "      <td>2</td>\n",
              "      <td>1</td>\n",
              "    </tr>\n",
              "    <tr>\n",
              "      <th>3</th>\n",
              "      <td>F00000005</td>\n",
              "      <td>257</td>\n",
              "      <td>1</td>\n",
              "      <td>1</td>\n",
              "      <td>1</td>\n",
              "      <td>0</td>\n",
              "      <td>0.0</td>\n",
              "      <td>0</td>\n",
              "      <td>2</td>\n",
              "      <td>1</td>\n",
              "    </tr>\n",
              "    <tr>\n",
              "      <th>4</th>\n",
              "      <td>F00000006</td>\n",
              "      <td>342</td>\n",
              "      <td>1</td>\n",
              "      <td>0</td>\n",
              "      <td>1</td>\n",
              "      <td>0</td>\n",
              "      <td>0.0</td>\n",
              "      <td>0</td>\n",
              "      <td>2</td>\n",
              "      <td>1</td>\n",
              "    </tr>\n",
              "    <tr>\n",
              "      <th>5</th>\n",
              "      <td>F00000008</td>\n",
              "      <td>448</td>\n",
              "      <td>0</td>\n",
              "      <td>1</td>\n",
              "      <td>1</td>\n",
              "      <td>0</td>\n",
              "      <td>NaN</td>\n",
              "      <td>0</td>\n",
              "      <td>2</td>\n",
              "      <td>1</td>\n",
              "    </tr>\n",
              "    <tr>\n",
              "      <th>6</th>\n",
              "      <td>F00000009</td>\n",
              "      <td>448</td>\n",
              "      <td>0</td>\n",
              "      <td>1</td>\n",
              "      <td>1</td>\n",
              "      <td>0</td>\n",
              "      <td>NaN</td>\n",
              "      <td>0</td>\n",
              "      <td>2</td>\n",
              "      <td>1</td>\n",
              "    </tr>\n",
              "    <tr>\n",
              "      <th>7</th>\n",
              "      <td>F00000010</td>\n",
              "      <td>577</td>\n",
              "      <td>1</td>\n",
              "      <td>0</td>\n",
              "      <td>1</td>\n",
              "      <td>0</td>\n",
              "      <td>0.0</td>\n",
              "      <td>0</td>\n",
              "      <td>1</td>\n",
              "      <td>2</td>\n",
              "    </tr>\n",
              "    <tr>\n",
              "      <th>8</th>\n",
              "      <td>F00000012</td>\n",
              "      <td>731</td>\n",
              "      <td>0</td>\n",
              "      <td>0</td>\n",
              "      <td>1</td>\n",
              "      <td>0</td>\n",
              "      <td>0.0</td>\n",
              "      <td>0</td>\n",
              "      <td>2</td>\n",
              "      <td>0</td>\n",
              "    </tr>\n",
              "    <tr>\n",
              "      <th>9</th>\n",
              "      <td>F00000020</td>\n",
              "      <td>1132</td>\n",
              "      <td>1</td>\n",
              "      <td>0</td>\n",
              "      <td>1</td>\n",
              "      <td>0</td>\n",
              "      <td>0.0</td>\n",
              "      <td>0</td>\n",
              "      <td>1</td>\n",
              "      <td>2</td>\n",
              "    </tr>\n",
              "  </tbody>\n",
              "</table>\n",
              "</div>\n",
              "      <button class=\"colab-df-convert\" onclick=\"convertToInteractive('df-58ada48c-7ec9-4d15-ac71-2f551c0043ef')\"\n",
              "              title=\"Convert this dataframe to an interactive table.\"\n",
              "              style=\"display:none;\">\n",
              "        \n",
              "  <svg xmlns=\"http://www.w3.org/2000/svg\" height=\"24px\"viewBox=\"0 0 24 24\"\n",
              "       width=\"24px\">\n",
              "    <path d=\"M0 0h24v24H0V0z\" fill=\"none\"/>\n",
              "    <path d=\"M18.56 5.44l.94 2.06.94-2.06 2.06-.94-2.06-.94-.94-2.06-.94 2.06-2.06.94zm-11 1L8.5 8.5l.94-2.06 2.06-.94-2.06-.94L8.5 2.5l-.94 2.06-2.06.94zm10 10l.94 2.06.94-2.06 2.06-.94-2.06-.94-.94-2.06-.94 2.06-2.06.94z\"/><path d=\"M17.41 7.96l-1.37-1.37c-.4-.4-.92-.59-1.43-.59-.52 0-1.04.2-1.43.59L10.3 9.45l-7.72 7.72c-.78.78-.78 2.05 0 2.83L4 21.41c.39.39.9.59 1.41.59.51 0 1.02-.2 1.41-.59l7.78-7.78 2.81-2.81c.8-.78.8-2.07 0-2.86zM5.41 20L4 18.59l7.72-7.72 1.47 1.35L5.41 20z\"/>\n",
              "  </svg>\n",
              "      </button>\n",
              "      \n",
              "  <style>\n",
              "    .colab-df-container {\n",
              "      display:flex;\n",
              "      flex-wrap:wrap;\n",
              "      gap: 12px;\n",
              "    }\n",
              "\n",
              "    .colab-df-convert {\n",
              "      background-color: #E8F0FE;\n",
              "      border: none;\n",
              "      border-radius: 50%;\n",
              "      cursor: pointer;\n",
              "      display: none;\n",
              "      fill: #1967D2;\n",
              "      height: 32px;\n",
              "      padding: 0 0 0 0;\n",
              "      width: 32px;\n",
              "    }\n",
              "\n",
              "    .colab-df-convert:hover {\n",
              "      background-color: #E2EBFA;\n",
              "      box-shadow: 0px 1px 2px rgba(60, 64, 67, 0.3), 0px 1px 3px 1px rgba(60, 64, 67, 0.15);\n",
              "      fill: #174EA6;\n",
              "    }\n",
              "\n",
              "    [theme=dark] .colab-df-convert {\n",
              "      background-color: #3B4455;\n",
              "      fill: #D2E3FC;\n",
              "    }\n",
              "\n",
              "    [theme=dark] .colab-df-convert:hover {\n",
              "      background-color: #434B5C;\n",
              "      box-shadow: 0px 1px 3px 1px rgba(0, 0, 0, 0.15);\n",
              "      filter: drop-shadow(0px 1px 2px rgba(0, 0, 0, 0.3));\n",
              "      fill: #FFFFFF;\n",
              "    }\n",
              "  </style>\n",
              "\n",
              "      <script>\n",
              "        const buttonEl =\n",
              "          document.querySelector('#df-58ada48c-7ec9-4d15-ac71-2f551c0043ef button.colab-df-convert');\n",
              "        buttonEl.style.display =\n",
              "          google.colab.kernel.accessAllowed ? 'block' : 'none';\n",
              "\n",
              "        async function convertToInteractive(key) {\n",
              "          const element = document.querySelector('#df-58ada48c-7ec9-4d15-ac71-2f551c0043ef');\n",
              "          const dataTable =\n",
              "            await google.colab.kernel.invokeFunction('convertToInteractive',\n",
              "                                                     [key], {});\n",
              "          if (!dataTable) return;\n",
              "\n",
              "          const docLinkHtml = 'Like what you see? Visit the ' +\n",
              "            '<a target=\"_blank\" href=https://colab.research.google.com/notebooks/data_table.ipynb>data table notebook</a>'\n",
              "            + ' to learn more about interactive tables.';\n",
              "          element.innerHTML = '';\n",
              "          dataTable['output_type'] = 'display_data';\n",
              "          await google.colab.output.renderOutput(dataTable, element);\n",
              "          const docLink = document.createElement('div');\n",
              "          docLink.innerHTML = docLinkHtml;\n",
              "          element.appendChild(docLink);\n",
              "        }\n",
              "      </script>\n",
              "    </div>\n",
              "  </div>\n",
              "  "
            ]
          },
          "metadata": {},
          "execution_count": 4
        }
      ]
    },
    {
      "cell_type": "code",
      "source": [
        "dataset.describe()"
      ],
      "metadata": {
        "id": "gvDZL05Hss6V",
        "colab": {
          "base_uri": "https://localhost:8080/",
          "height": 343
        },
        "outputId": "7eb90c96-bef4-4793-87e8-bfa83e1e641f"
      },
      "execution_count": 5,
      "outputs": [
        {
          "output_type": "execute_result",
          "data": {
            "text/plain": [
              "       Estimated_Insects_Count     Crop_Type     Soil_Type  \\\n",
              "count             88858.000000  88858.000000  88858.000000   \n",
              "mean               1399.012210      0.284375      0.458417   \n",
              "std                 849.048781      0.451119      0.498271   \n",
              "min                 150.000000      0.000000      0.000000   \n",
              "25%                 731.000000      0.000000      0.000000   \n",
              "50%                1212.000000      0.000000      0.000000   \n",
              "75%                1898.000000      1.000000      1.000000   \n",
              "max                4097.000000      1.000000      1.000000   \n",
              "\n",
              "       Pesticide_Use_Category  Number_Doses_Week  Number_Weeks_Used  \\\n",
              "count            88858.000000       88858.000000       79858.000000   \n",
              "mean                 2.264186          25.849952          28.623970   \n",
              "std                  0.461772          15.554428          12.391881   \n",
              "min                  1.000000           0.000000           0.000000   \n",
              "25%                  2.000000          15.000000          20.000000   \n",
              "50%                  2.000000          20.000000          28.000000   \n",
              "75%                  3.000000          40.000000          37.000000   \n",
              "max                  3.000000          95.000000          67.000000   \n",
              "\n",
              "       Number_Weeks_Quit        Season   Crop_Damage  \n",
              "count       88858.000000  88858.000000  88858.000000  \n",
              "mean            9.589986      1.896959      0.190562  \n",
              "std             9.900631      0.701322      0.454215  \n",
              "min             0.000000      1.000000      0.000000  \n",
              "25%             0.000000      1.000000      0.000000  \n",
              "50%             7.000000      2.000000      0.000000  \n",
              "75%            16.000000      2.000000      0.000000  \n",
              "max            50.000000      3.000000      2.000000  "
            ],
            "text/html": [
              "\n",
              "  <div id=\"df-eb38deef-9f84-4fc9-917b-570a88a7cd1d\">\n",
              "    <div class=\"colab-df-container\">\n",
              "      <div>\n",
              "<style scoped>\n",
              "    .dataframe tbody tr th:only-of-type {\n",
              "        vertical-align: middle;\n",
              "    }\n",
              "\n",
              "    .dataframe tbody tr th {\n",
              "        vertical-align: top;\n",
              "    }\n",
              "\n",
              "    .dataframe thead th {\n",
              "        text-align: right;\n",
              "    }\n",
              "</style>\n",
              "<table border=\"1\" class=\"dataframe\">\n",
              "  <thead>\n",
              "    <tr style=\"text-align: right;\">\n",
              "      <th></th>\n",
              "      <th>Estimated_Insects_Count</th>\n",
              "      <th>Crop_Type</th>\n",
              "      <th>Soil_Type</th>\n",
              "      <th>Pesticide_Use_Category</th>\n",
              "      <th>Number_Doses_Week</th>\n",
              "      <th>Number_Weeks_Used</th>\n",
              "      <th>Number_Weeks_Quit</th>\n",
              "      <th>Season</th>\n",
              "      <th>Crop_Damage</th>\n",
              "    </tr>\n",
              "  </thead>\n",
              "  <tbody>\n",
              "    <tr>\n",
              "      <th>count</th>\n",
              "      <td>88858.000000</td>\n",
              "      <td>88858.000000</td>\n",
              "      <td>88858.000000</td>\n",
              "      <td>88858.000000</td>\n",
              "      <td>88858.000000</td>\n",
              "      <td>79858.000000</td>\n",
              "      <td>88858.000000</td>\n",
              "      <td>88858.000000</td>\n",
              "      <td>88858.000000</td>\n",
              "    </tr>\n",
              "    <tr>\n",
              "      <th>mean</th>\n",
              "      <td>1399.012210</td>\n",
              "      <td>0.284375</td>\n",
              "      <td>0.458417</td>\n",
              "      <td>2.264186</td>\n",
              "      <td>25.849952</td>\n",
              "      <td>28.623970</td>\n",
              "      <td>9.589986</td>\n",
              "      <td>1.896959</td>\n",
              "      <td>0.190562</td>\n",
              "    </tr>\n",
              "    <tr>\n",
              "      <th>std</th>\n",
              "      <td>849.048781</td>\n",
              "      <td>0.451119</td>\n",
              "      <td>0.498271</td>\n",
              "      <td>0.461772</td>\n",
              "      <td>15.554428</td>\n",
              "      <td>12.391881</td>\n",
              "      <td>9.900631</td>\n",
              "      <td>0.701322</td>\n",
              "      <td>0.454215</td>\n",
              "    </tr>\n",
              "    <tr>\n",
              "      <th>min</th>\n",
              "      <td>150.000000</td>\n",
              "      <td>0.000000</td>\n",
              "      <td>0.000000</td>\n",
              "      <td>1.000000</td>\n",
              "      <td>0.000000</td>\n",
              "      <td>0.000000</td>\n",
              "      <td>0.000000</td>\n",
              "      <td>1.000000</td>\n",
              "      <td>0.000000</td>\n",
              "    </tr>\n",
              "    <tr>\n",
              "      <th>25%</th>\n",
              "      <td>731.000000</td>\n",
              "      <td>0.000000</td>\n",
              "      <td>0.000000</td>\n",
              "      <td>2.000000</td>\n",
              "      <td>15.000000</td>\n",
              "      <td>20.000000</td>\n",
              "      <td>0.000000</td>\n",
              "      <td>1.000000</td>\n",
              "      <td>0.000000</td>\n",
              "    </tr>\n",
              "    <tr>\n",
              "      <th>50%</th>\n",
              "      <td>1212.000000</td>\n",
              "      <td>0.000000</td>\n",
              "      <td>0.000000</td>\n",
              "      <td>2.000000</td>\n",
              "      <td>20.000000</td>\n",
              "      <td>28.000000</td>\n",
              "      <td>7.000000</td>\n",
              "      <td>2.000000</td>\n",
              "      <td>0.000000</td>\n",
              "    </tr>\n",
              "    <tr>\n",
              "      <th>75%</th>\n",
              "      <td>1898.000000</td>\n",
              "      <td>1.000000</td>\n",
              "      <td>1.000000</td>\n",
              "      <td>3.000000</td>\n",
              "      <td>40.000000</td>\n",
              "      <td>37.000000</td>\n",
              "      <td>16.000000</td>\n",
              "      <td>2.000000</td>\n",
              "      <td>0.000000</td>\n",
              "    </tr>\n",
              "    <tr>\n",
              "      <th>max</th>\n",
              "      <td>4097.000000</td>\n",
              "      <td>1.000000</td>\n",
              "      <td>1.000000</td>\n",
              "      <td>3.000000</td>\n",
              "      <td>95.000000</td>\n",
              "      <td>67.000000</td>\n",
              "      <td>50.000000</td>\n",
              "      <td>3.000000</td>\n",
              "      <td>2.000000</td>\n",
              "    </tr>\n",
              "  </tbody>\n",
              "</table>\n",
              "</div>\n",
              "      <button class=\"colab-df-convert\" onclick=\"convertToInteractive('df-eb38deef-9f84-4fc9-917b-570a88a7cd1d')\"\n",
              "              title=\"Convert this dataframe to an interactive table.\"\n",
              "              style=\"display:none;\">\n",
              "        \n",
              "  <svg xmlns=\"http://www.w3.org/2000/svg\" height=\"24px\"viewBox=\"0 0 24 24\"\n",
              "       width=\"24px\">\n",
              "    <path d=\"M0 0h24v24H0V0z\" fill=\"none\"/>\n",
              "    <path d=\"M18.56 5.44l.94 2.06.94-2.06 2.06-.94-2.06-.94-.94-2.06-.94 2.06-2.06.94zm-11 1L8.5 8.5l.94-2.06 2.06-.94-2.06-.94L8.5 2.5l-.94 2.06-2.06.94zm10 10l.94 2.06.94-2.06 2.06-.94-2.06-.94-.94-2.06-.94 2.06-2.06.94z\"/><path d=\"M17.41 7.96l-1.37-1.37c-.4-.4-.92-.59-1.43-.59-.52 0-1.04.2-1.43.59L10.3 9.45l-7.72 7.72c-.78.78-.78 2.05 0 2.83L4 21.41c.39.39.9.59 1.41.59.51 0 1.02-.2 1.41-.59l7.78-7.78 2.81-2.81c.8-.78.8-2.07 0-2.86zM5.41 20L4 18.59l7.72-7.72 1.47 1.35L5.41 20z\"/>\n",
              "  </svg>\n",
              "      </button>\n",
              "      \n",
              "  <style>\n",
              "    .colab-df-container {\n",
              "      display:flex;\n",
              "      flex-wrap:wrap;\n",
              "      gap: 12px;\n",
              "    }\n",
              "\n",
              "    .colab-df-convert {\n",
              "      background-color: #E8F0FE;\n",
              "      border: none;\n",
              "      border-radius: 50%;\n",
              "      cursor: pointer;\n",
              "      display: none;\n",
              "      fill: #1967D2;\n",
              "      height: 32px;\n",
              "      padding: 0 0 0 0;\n",
              "      width: 32px;\n",
              "    }\n",
              "\n",
              "    .colab-df-convert:hover {\n",
              "      background-color: #E2EBFA;\n",
              "      box-shadow: 0px 1px 2px rgba(60, 64, 67, 0.3), 0px 1px 3px 1px rgba(60, 64, 67, 0.15);\n",
              "      fill: #174EA6;\n",
              "    }\n",
              "\n",
              "    [theme=dark] .colab-df-convert {\n",
              "      background-color: #3B4455;\n",
              "      fill: #D2E3FC;\n",
              "    }\n",
              "\n",
              "    [theme=dark] .colab-df-convert:hover {\n",
              "      background-color: #434B5C;\n",
              "      box-shadow: 0px 1px 3px 1px rgba(0, 0, 0, 0.15);\n",
              "      filter: drop-shadow(0px 1px 2px rgba(0, 0, 0, 0.3));\n",
              "      fill: #FFFFFF;\n",
              "    }\n",
              "  </style>\n",
              "\n",
              "      <script>\n",
              "        const buttonEl =\n",
              "          document.querySelector('#df-eb38deef-9f84-4fc9-917b-570a88a7cd1d button.colab-df-convert');\n",
              "        buttonEl.style.display =\n",
              "          google.colab.kernel.accessAllowed ? 'block' : 'none';\n",
              "\n",
              "        async function convertToInteractive(key) {\n",
              "          const element = document.querySelector('#df-eb38deef-9f84-4fc9-917b-570a88a7cd1d');\n",
              "          const dataTable =\n",
              "            await google.colab.kernel.invokeFunction('convertToInteractive',\n",
              "                                                     [key], {});\n",
              "          if (!dataTable) return;\n",
              "\n",
              "          const docLinkHtml = 'Like what you see? Visit the ' +\n",
              "            '<a target=\"_blank\" href=https://colab.research.google.com/notebooks/data_table.ipynb>data table notebook</a>'\n",
              "            + ' to learn more about interactive tables.';\n",
              "          element.innerHTML = '';\n",
              "          dataTable['output_type'] = 'display_data';\n",
              "          await google.colab.output.renderOutput(dataTable, element);\n",
              "          const docLink = document.createElement('div');\n",
              "          docLink.innerHTML = docLinkHtml;\n",
              "          element.appendChild(docLink);\n",
              "        }\n",
              "      </script>\n",
              "    </div>\n",
              "  </div>\n",
              "  "
            ]
          },
          "metadata": {},
          "execution_count": 5
        }
      ]
    },
    {
      "cell_type": "code",
      "source": [
        "dataset.shape"
      ],
      "metadata": {
        "id": "eM5SULFXsyrB",
        "colab": {
          "base_uri": "https://localhost:8080/"
        },
        "outputId": "bce31a7c-3003-4183-ca31-7e776abdfab0"
      },
      "execution_count": 6,
      "outputs": [
        {
          "output_type": "execute_result",
          "data": {
            "text/plain": [
              "(88858, 10)"
            ]
          },
          "metadata": {},
          "execution_count": 6
        }
      ]
    },
    {
      "cell_type": "code",
      "source": [
        "dataset.info()"
      ],
      "metadata": {
        "id": "L8uDYyBZtI6L",
        "colab": {
          "base_uri": "https://localhost:8080/"
        },
        "outputId": "08ae0a2e-e680-46ee-b8b3-b6801e997a86"
      },
      "execution_count": 7,
      "outputs": [
        {
          "output_type": "stream",
          "name": "stdout",
          "text": [
            "<class 'pandas.core.frame.DataFrame'>\n",
            "RangeIndex: 88858 entries, 0 to 88857\n",
            "Data columns (total 10 columns):\n",
            " #   Column                   Non-Null Count  Dtype  \n",
            "---  ------                   --------------  -----  \n",
            " 0   ID                       88858 non-null  object \n",
            " 1   Estimated_Insects_Count  88858 non-null  int64  \n",
            " 2   Crop_Type                88858 non-null  int64  \n",
            " 3   Soil_Type                88858 non-null  int64  \n",
            " 4   Pesticide_Use_Category   88858 non-null  int64  \n",
            " 5   Number_Doses_Week        88858 non-null  int64  \n",
            " 6   Number_Weeks_Used        79858 non-null  float64\n",
            " 7   Number_Weeks_Quit        88858 non-null  int64  \n",
            " 8   Season                   88858 non-null  int64  \n",
            " 9   Crop_Damage              88858 non-null  int64  \n",
            "dtypes: float64(1), int64(8), object(1)\n",
            "memory usage: 6.8+ MB\n"
          ]
        }
      ]
    },
    {
      "cell_type": "code",
      "source": [
        "# Analisando o TARGET ('Crop_Damage')\n",
        "dataset['Crop_Damage'].value_counts()\n",
        "graphic = sns.countplot(x = dataset['Crop_Damage'])"
      ],
      "metadata": {
        "id": "6tr_eqVVthOR",
        "colab": {
          "base_uri": "https://localhost:8080/",
          "height": 280
        },
        "outputId": "5189f0c9-e5ea-4a29-8acc-ca107992e04a"
      },
      "execution_count": 8,
      "outputs": [
        {
          "output_type": "display_data",
          "data": {
            "text/plain": [
              "<Figure size 432x288 with 1 Axes>"
            ],
            "image/png": "[encoded data removed]"
          },
          "metadata": {
            "needs_background": "light"
          }
        }
      ]
    },
    {
      "cell_type": "code",
      "source": [
        "# Analisando Season\n",
        "dataset['Season'].value_counts()\n",
        "graphic = sns.countplot(x = dataset['Season'])"
      ],
      "metadata": {
        "id": "wzYFgL5Jt7k4",
        "colab": {
          "base_uri": "https://localhost:8080/",
          "height": 278
        },
        "outputId": "c8919e67-19cb-4aab-d38a-53904d403364"
      },
      "execution_count": 9,
      "outputs": [
        {
          "output_type": "display_data",
          "data": {
            "text/plain": [
              "<Figure size 432x288 with 1 Axes>"
            ],
            "image/png": "[encoded data removed]"
          },
          "metadata": {
            "needs_background": "light"
          }
        }
      ]
    },
    {
      "cell_type": "code",
      "source": [
        "# Analisando a categoria de pesticida\n",
        "dataset['Pesticide_Use_Category'].value_counts()\n",
        "graphic = sns.countplot(x = dataset['Pesticide_Use_Category'])"
      ],
      "metadata": {
        "id": "nW283RI2uLsQ",
        "colab": {
          "base_uri": "https://localhost:8080/",
          "height": 280
        },
        "outputId": "4943bb3e-6f79-44fc-b41b-4ab1fc98e089"
      },
      "execution_count": 10,
      "outputs": [
        {
          "output_type": "display_data",
          "data": {
            "text/plain": [
              "<Figure size 432x288 with 1 Axes>"
            ],
            "image/png": "[encoded data removed]"
          },
          "metadata": {
            "needs_background": "light"
          }
        }
      ]
    },
    {
      "cell_type": "code",
      "source": [
        "# Analisando a categoria de cultivo\n",
        "dataset['Crop_Type'].value_counts()\n",
        "graphic = sns.countplot(x = dataset['Crop_Type'])"
      ],
      "metadata": {
        "id": "gkRHF8F6n5HP",
        "colab": {
          "base_uri": "https://localhost:8080/",
          "height": 280
        },
        "outputId": "07048b9b-b872-4f9a-e610-7f9eaec3f79b"
      },
      "execution_count": 11,
      "outputs": [
        {
          "output_type": "display_data",
          "data": {
            "text/plain": [
              "<Figure size 432x288 with 1 Axes>"
            ],
            "image/png": "[encoded data removed]"
          },
          "metadata": {
            "needs_background": "light"
          }
        }
      ]
    },
    {
      "cell_type": "code",
      "source": [
        "# Analisando o tipo de solo\n",
        "dataset['Soil_Type'].value_counts()\n",
        "graphic = sns.countplot(x = dataset['Soil_Type'])"
      ],
      "metadata": {
        "id": "VnO3kGGdoC79",
        "colab": {
          "base_uri": "https://localhost:8080/",
          "height": 282
        },
        "outputId": "4fd7d8b5-d751-46cf-ffe8-70f185b82c24"
      },
      "execution_count": 12,
      "outputs": [
        {
          "output_type": "display_data",
          "data": {
            "text/plain": [
              "<Figure size 432x288 with 1 Axes>"
            ],
            "image/png": "[encoded data removed]"
          },
          "metadata": {
            "needs_background": "light"
          }
        }
      ]
    },
    {
      "cell_type": "code",
      "source": [
        "# Analisando o tipo de solo\n",
        "dataset['Soil_Type'].value_counts()\n",
        "graphic = sns.countplot(x = dataset['Soil_Type'])"
      ],
      "metadata": {
        "id": "AcX2NCKbqlVn",
        "colab": {
          "base_uri": "https://localhost:8080/",
          "height": 282
        },
        "outputId": "7cef7a85-cf48-4c90-a762-d7d42f334128"
      },
      "execution_count": 13,
      "outputs": [
        {
          "output_type": "display_data",
          "data": {
            "text/plain": [
              "<Figure size 432x288 with 1 Axes>"
            ],
            "image/png": "[encoded data removed]"
          },
          "metadata": {
            "needs_background": "light"
          }
        }
      ]
    },
    {
      "cell_type": "code",
      "source": [
        "# Verificando presença de dados nulos\n",
        "dataset.isnull().sum()"
      ],
      "metadata": {
        "id": "ecKNx893rAXG",
        "colab": {
          "base_uri": "https://localhost:8080/"
        },
        "outputId": "a5aa7c3b-73c8-4636-f8b7-d4a4ab83f8f1"
      },
      "execution_count": 14,
      "outputs": [
        {
          "output_type": "execute_result",
          "data": {
            "text/plain": [
              "ID                            0\n",
              "Estimated_Insects_Count       0\n",
              "Crop_Type                     0\n",
              "Soil_Type                     0\n",
              "Pesticide_Use_Category        0\n",
              "Number_Doses_Week             0\n",
              "Number_Weeks_Used          9000\n",
              "Number_Weeks_Quit             0\n",
              "Season                        0\n",
              "Crop_Damage                   0\n",
              "dtype: int64"
            ]
          },
          "metadata": {},
          "execution_count": 14
        }
      ]
    },
    {
      "cell_type": "code",
      "source": [
        "# Verificando presença de dados duplicados\n",
        "dataset.duplicated().sum()"
      ],
      "metadata": {
        "id": "QbjsNZforKiL",
        "colab": {
          "base_uri": "https://localhost:8080/"
        },
        "outputId": "b90fd879-1ac1-4c6e-ba0e-b615a7b68309"
      },
      "execution_count": 15,
      "outputs": [
        {
          "output_type": "execute_result",
          "data": {
            "text/plain": [
              "0"
            ]
          },
          "metadata": {},
          "execution_count": 15
        }
      ]
    },
    {
      "cell_type": "code",
      "source": [
        "# Contando a quantidade de insetos\n",
        "dataset['Estimated_Insects_Count'].describe()\n",
        "var = sns.boxplot(x = dataset['Estimated_Insects_Count'])\n",
        "# Identificamos uma grande quantidade de insetos (outliers)"
      ],
      "metadata": {
        "id": "stl3AqNHrSGK",
        "colab": {
          "base_uri": "https://localhost:8080/",
          "height": 280
        },
        "outputId": "283474c3-b78f-4a99-edc6-a4d42a8251a3"
      },
      "execution_count": 16,
      "outputs": [
        {
          "output_type": "display_data",
          "data": {
            "text/plain": [
              "<Figure size 432x288 with 1 Axes>"
            ],
            "image/png": "[encoded data removed]"
          },
          "metadata": {
            "needs_background": "light"
          }
        }
      ]
    },
    {
      "cell_type": "code",
      "source": [
        "# Examinando a quantidade de doses na semana\n",
        "dataset['Number_Doses_Week'].describe()\n",
        "var = sns.boxplot(x = dataset['Number_Doses_Week'])"
      ],
      "metadata": {
        "id": "wQPmuIv6r3gy",
        "colab": {
          "base_uri": "https://localhost:8080/",
          "height": 280
        },
        "outputId": "245b3279-d36e-45c7-fe13-a6a4c421f87b"
      },
      "execution_count": 17,
      "outputs": [
        {
          "output_type": "display_data",
          "data": {
            "text/plain": [
              "<Figure size 432x288 with 1 Axes>"
            ],
            "image/png": "[encoded data removed]"
          },
          "metadata": {
            "needs_background": "light"
          }
        }
      ]
    },
    {
      "cell_type": "code",
      "source": [
        "# Para sincronizar com a análise acima, este gráfico explora o número de semanas de uso de pesticidas\n",
        "dataset['Number_Weeks_Used'].describe()\n",
        "var = sns.boxplot(x = dataset['Number_Weeks_Used'])"
      ],
      "metadata": {
        "id": "DOokRtS8t5WQ",
        "colab": {
          "base_uri": "https://localhost:8080/",
          "height": 280
        },
        "outputId": "a46c4aba-48f8-4ac1-de01-a1b1db86d6c0"
      },
      "execution_count": 18,
      "outputs": [
        {
          "output_type": "display_data",
          "data": {
            "text/plain": [
              "<Figure size 432x288 with 1 Axes>"
            ],
            "image/png": "[encoded data removed]"
          },
          "metadata": {
            "needs_background": "light"
          }
        }
      ]
    },
    {
      "cell_type": "code",
      "source": [
        "# Aqui refere-se ao número de semanas em que não foram usados pesticidas\n",
        "dataset['Number_Weeks_Quit'].describe()\n",
        "var = sns.boxplot(x = dataset['Number_Weeks_Quit'])"
      ],
      "metadata": {
        "id": "S1waCBImuUCE",
        "colab": {
          "base_uri": "https://localhost:8080/",
          "height": 280
        },
        "outputId": "51ca5134-4d91-4a79-fd54-8f7895ac8c50"
      },
      "execution_count": 19,
      "outputs": [
        {
          "output_type": "display_data",
          "data": {
            "text/plain": [
              "<Figure size 432x288 with 1 Axes>"
            ],
            "image/png": "[encoded data removed]"
          },
          "metadata": {
            "needs_background": "light"
          }
        }
      ]
    },
    {
      "cell_type": "markdown",
      "source": [
        "# **PRÉ-PROCESSAMENTO DOS DADOS**"
      ],
      "metadata": {
        "id": "JAqbdiN5v5Vv"
      }
    },
    {
      "cell_type": "code",
      "source": [
        "# Eliminamos a variável \"ID\" pois não tem muita utilidade para a análise\n",
        "dataset.drop('ID', axis = 1, inplace = True)\n",
        "dataset.head()"
      ],
      "metadata": {
        "id": "lP8m31xmv9Jg",
        "colab": {
          "base_uri": "https://localhost:8080/",
          "height": 206
        },
        "outputId": "71669f15-c3c5-4fb8-a110-8811ac406c68"
      },
      "execution_count": 20,
      "outputs": [
        {
          "output_type": "execute_result",
          "data": {
            "text/plain": [
              "   Estimated_Insects_Count  Crop_Type  Soil_Type  Pesticide_Use_Category  \\\n",
              "0                      188          1          0                       1   \n",
              "1                      209          1          0                       1   \n",
              "2                      257          1          0                       1   \n",
              "3                      257          1          1                       1   \n",
              "4                      342          1          0                       1   \n",
              "\n",
              "   Number_Doses_Week  Number_Weeks_Used  Number_Weeks_Quit  Season  \\\n",
              "0                  0                0.0                  0       1   \n",
              "1                  0                0.0                  0       2   \n",
              "2                  0                0.0                  0       2   \n",
              "3                  0                0.0                  0       2   \n",
              "4                  0                0.0                  0       2   \n",
              "\n",
              "   Crop_Damage  \n",
              "0            0  \n",
              "1            1  \n",
              "2            1  \n",
              "3            1  \n",
              "4            1  "
            ],
            "text/html": [
              "\n",
              "  <div id=\"df-9bc7ce29-5a29-401f-a140-5ea1c3fbdbb9\">\n",
              "    <div class=\"colab-df-container\">\n",
              "      <div>\n",
              "<style scoped>\n",
              "    .dataframe tbody tr th:only-of-type {\n",
              "        vertical-align: middle;\n",
              "    }\n",
              "\n",
              "    .dataframe tbody tr th {\n",
              "        vertical-align: top;\n",
              "    }\n",
              "\n",
              "    .dataframe thead th {\n",
              "        text-align: right;\n",
              "    }\n",
              "</style>\n",
              "<table border=\"1\" class=\"dataframe\">\n",
              "  <thead>\n",
              "    <tr style=\"text-align: right;\">\n",
              "      <th></th>\n",
              "      <th>Estimated_Insects_Count</th>\n",
              "      <th>Crop_Type</th>\n",
              "      <th>Soil_Type</th>\n",
              "      <th>Pesticide_Use_Category</th>\n",
              "      <th>Number_Doses_Week</th>\n",
              "      <th>Number_Weeks_Used</th>\n",
              "      <th>Number_Weeks_Quit</th>\n",
              "      <th>Season</th>\n",
              "      <th>Crop_Damage</th>\n",
              "    </tr>\n",
              "  </thead>\n",
              "  <tbody>\n",
              "    <tr>\n",
              "      <th>0</th>\n",
              "      <td>188</td>\n",
              "      <td>1</td>\n",
              "      <td>0</td>\n",
              "      <td>1</td>\n",
              "      <td>0</td>\n",
              "      <td>0.0</td>\n",
              "      <td>0</td>\n",
              "      <td>1</td>\n",
              "      <td>0</td>\n",
              "    </tr>\n",
              "    <tr>\n",
              "      <th>1</th>\n",
              "      <td>209</td>\n",
              "      <td>1</td>\n",
              "      <td>0</td>\n",
              "      <td>1</td>\n",
              "      <td>0</td>\n",
              "      <td>0.0</td>\n",
              "      <td>0</td>\n",
              "      <td>2</td>\n",
              "      <td>1</td>\n",
              "    </tr>\n",
              "    <tr>\n",
              "      <th>2</th>\n",
              "      <td>257</td>\n",
              "      <td>1</td>\n",
              "      <td>0</td>\n",
              "      <td>1</td>\n",
              "      <td>0</td>\n",
              "      <td>0.0</td>\n",
              "      <td>0</td>\n",
              "      <td>2</td>\n",
              "      <td>1</td>\n",
              "    </tr>\n",
              "    <tr>\n",
              "      <th>3</th>\n",
              "      <td>257</td>\n",
              "      <td>1</td>\n",
              "      <td>1</td>\n",
              "      <td>1</td>\n",
              "      <td>0</td>\n",
              "      <td>0.0</td>\n",
              "      <td>0</td>\n",
              "      <td>2</td>\n",
              "      <td>1</td>\n",
              "    </tr>\n",
              "    <tr>\n",
              "      <th>4</th>\n",
              "      <td>342</td>\n",
              "      <td>1</td>\n",
              "      <td>0</td>\n",
              "      <td>1</td>\n",
              "      <td>0</td>\n",
              "      <td>0.0</td>\n",
              "      <td>0</td>\n",
              "      <td>2</td>\n",
              "      <td>1</td>\n",
              "    </tr>\n",
              "  </tbody>\n",
              "</table>\n",
              "</div>\n",
              "      <button class=\"colab-df-convert\" onclick=\"convertToInteractive('df-9bc7ce29-5a29-401f-a140-5ea1c3fbdbb9')\"\n",
              "              title=\"Convert this dataframe to an interactive table.\"\n",
              "              style=\"display:none;\">\n",
              "        \n",
              "  <svg xmlns=\"http://www.w3.org/2000/svg\" height=\"24px\"viewBox=\"0 0 24 24\"\n",
              "       width=\"24px\">\n",
              "    <path d=\"M0 0h24v24H0V0z\" fill=\"none\"/>\n",
              "    <path d=\"M18.56 5.44l.94 2.06.94-2.06 2.06-.94-2.06-.94-.94-2.06-.94 2.06-2.06.94zm-11 1L8.5 8.5l.94-2.06 2.06-.94-2.06-.94L8.5 2.5l-.94 2.06-2.06.94zm10 10l.94 2.06.94-2.06 2.06-.94-2.06-.94-.94-2.06-.94 2.06-2.06.94z\"/><path d=\"M17.41 7.96l-1.37-1.37c-.4-.4-.92-.59-1.43-.59-.52 0-1.04.2-1.43.59L10.3 9.45l-7.72 7.72c-.78.78-.78 2.05 0 2.83L4 21.41c.39.39.9.59 1.41.59.51 0 1.02-.2 1.41-.59l7.78-7.78 2.81-2.81c.8-.78.8-2.07 0-2.86zM5.41 20L4 18.59l7.72-7.72 1.47 1.35L5.41 20z\"/>\n",
              "  </svg>\n",
              "      </button>\n",
              "      \n",
              "  <style>\n",
              "    .colab-df-container {\n",
              "      display:flex;\n",
              "      flex-wrap:wrap;\n",
              "      gap: 12px;\n",
              "    }\n",
              "\n",
              "    .colab-df-convert {\n",
              "      background-color: #E8F0FE;\n",
              "      border: none;\n",
              "      border-radius: 50%;\n",
              "      cursor: pointer;\n",
              "      display: none;\n",
              "      fill: #1967D2;\n",
              "      height: 32px;\n",
              "      padding: 0 0 0 0;\n",
              "      width: 32px;\n",
              "    }\n",
              "\n",
              "    .colab-df-convert:hover {\n",
              "      background-color: #E2EBFA;\n",
              "      box-shadow: 0px 1px 2px rgba(60, 64, 67, 0.3), 0px 1px 3px 1px rgba(60, 64, 67, 0.15);\n",
              "      fill: #174EA6;\n",
              "    }\n",
              "\n",
              "    [theme=dark] .colab-df-convert {\n",
              "      background-color: #3B4455;\n",
              "      fill: #D2E3FC;\n",
              "    }\n",
              "\n",
              "    [theme=dark] .colab-df-convert:hover {\n",
              "      background-color: #434B5C;\n",
              "      box-shadow: 0px 1px 3px 1px rgba(0, 0, 0, 0.15);\n",
              "      filter: drop-shadow(0px 1px 2px rgba(0, 0, 0, 0.3));\n",
              "      fill: #FFFFFF;\n",
              "    }\n",
              "  </style>\n",
              "\n",
              "      <script>\n",
              "        const buttonEl =\n",
              "          document.querySelector('#df-9bc7ce29-5a29-401f-a140-5ea1c3fbdbb9 button.colab-df-convert');\n",
              "        buttonEl.style.display =\n",
              "          google.colab.kernel.accessAllowed ? 'block' : 'none';\n",
              "\n",
              "        async function convertToInteractive(key) {\n",
              "          const element = document.querySelector('#df-9bc7ce29-5a29-401f-a140-5ea1c3fbdbb9');\n",
              "          const dataTable =\n",
              "            await google.colab.kernel.invokeFunction('convertToInteractive',\n",
              "                                                     [key], {});\n",
              "          if (!dataTable) return;\n",
              "\n",
              "          const docLinkHtml = 'Like what you see? Visit the ' +\n",
              "            '<a target=\"_blank\" href=https://colab.research.google.com/notebooks/data_table.ipynb>data table notebook</a>'\n",
              "            + ' to learn more about interactive tables.';\n",
              "          element.innerHTML = '';\n",
              "          dataTable['output_type'] = 'display_data';\n",
              "          await google.colab.output.renderOutput(dataTable, element);\n",
              "          const docLink = document.createElement('div');\n",
              "          docLink.innerHTML = docLinkHtml;\n",
              "          element.appendChild(docLink);\n",
              "        }\n",
              "      </script>\n",
              "    </div>\n",
              "  </div>\n",
              "  "
            ]
          },
          "metadata": {},
          "execution_count": 20
        }
      ]
    },
    {
      "cell_type": "code",
      "source": [
        "# Tratamento dos valores ausentes\n",
        "dataset.dropna(inplace = True)"
      ],
      "metadata": {
        "id": "yQGkvv2Jx0SX"
      },
      "execution_count": 21,
      "outputs": []
    },
    {
      "cell_type": "code",
      "source": [
        "dataset.head()"
      ],
      "metadata": {
        "id": "A2O5r-CPyHS_"
      },
      "execution_count": null,
      "outputs": []
    },
    {
      "cell_type": "code",
      "source": [
        "# Usamos a técnica One-Hot Encoder que é a separação dos dados em variáveis numéricas binárias\n",
        "for col in ['Crop_Type', 'Soil_Type', 'Pesticide_Use_Category', 'Season']: # criando uma lista de variáveis\n",
        "  dataset = pd.get_dummies(dataset, columns = [col]) # get_dummies = transformando variáveis de acordo com o tipo de domínio\n"
      ],
      "metadata": {
        "id": "FvTFAYKm0GAg"
      },
      "execution_count": 23,
      "outputs": []
    },
    {
      "cell_type": "code",
      "source": [
        "dataset.shape"
      ],
      "metadata": {
        "id": "6gmlxc7-10pg"
      },
      "execution_count": null,
      "outputs": []
    },
    {
      "cell_type": "code",
      "source": [
        "dataset.head(2)"
      ],
      "metadata": {
        "id": "32CmefjN06gf"
      },
      "execution_count": null,
      "outputs": []
    },
    {
      "cell_type": "code",
      "source": [
        "# Separando o TARGET(Y) das variáveis explicativas(X)\n",
        "x = dataset.drop(['Crop_Damage'], axis = 1)\n",
        "y = dataset['Crop_Damage'].values.reshape(-1, 1)"
      ],
      "metadata": {
        "id": "eZqM63Gg1wWY"
      },
      "execution_count": 28,
      "outputs": []
    },
    {
      "cell_type": "code",
      "source": [
        "# Amostragem com os dados de treino e de teste\n",
        "x_train, x_test, y_train, y_test = train_test_split(x, y, test_size = 0.2, random_state = 7)"
      ],
      "metadata": {
        "id": "kfLv_9ZWIL-W"
      },
      "execution_count": 29,
      "outputs": []
    },
    {
      "cell_type": "markdown",
      "source": [
        "**Máquina Preditiva**"
      ],
      "metadata": {
        "id": "3bCcFxkPIePG"
      }
    },
    {
      "cell_type": "code",
      "source": [
        "# Treinando a máquina preditiva\n",
        "# n_estimators = número de árvores usadas\n",
        "# max_depth = profundidade máxima (deixamos nesse patamar para evitar overfiting \"viciar\")\n",
        "maq_pred = CatBoostClassifier(n_estimators = 1000, max_depth = 4, random_state = 7)"
      ],
      "metadata": {
        "id": "2aOwjR6ZIgoM"
      },
      "execution_count": 31,
      "outputs": []
    },
    {
      "cell_type": "code",
      "source": [
        "# Treino\n",
        "maq_pred.fit(x_train, y_train)"
      ],
      "metadata": {
        "id": "Ozaum-J6L3DH"
      },
      "execution_count": null,
      "outputs": []
    },
    {
      "cell_type": "code",
      "source": [
        "# Predições com o x_test\n",
        "predicoes = maq_pred.predict_proba(x_test)"
      ],
      "metadata": {
        "id": "3SrAEeQOMQE_"
      },
      "execution_count": 33,
      "outputs": []
    },
    {
      "cell_type": "markdown",
      "source": [
        "**Avaliação das Máquinas Preditivas**"
      ],
      "metadata": {
        "id": "sJsM5BhhMn0c"
      }
    },
    {
      "cell_type": "code",
      "source": [
        "# Usando o Score\n",
        "result = maq_pred.score(x_test, y_test)\n",
        "print('Acurácia nos Dados de Teste: %.3f%%' % (result * 100)) # transformando em porcentagem"
      ],
      "metadata": {
        "colab": {
          "base_uri": "https://localhost:8080/"
        },
        "id": "gNrL6WReMtVw",
        "outputId": "1ec2d0ab-fbc7-4bf2-a7ff-0e2ed262be61"
      },
      "execution_count": 34,
      "outputs": [
        {
          "output_type": "stream",
          "name": "stdout",
          "text": [
            "Acurácia nos Dados de Teste: 80.103%\n"
          ]
        }
      ]
    },
    {
      "cell_type": "code",
      "source": [
        "# Determinando as variáveis mais importantes\n",
        "maq_pred.feature_importances_"
      ],
      "metadata": {
        "id": "QTry3lGyNOU3"
      },
      "execution_count": null,
      "outputs": []
    },
    {
      "cell_type": "code",
      "source": [
        "dataset.info()"
      ],
      "metadata": {
        "id": "TXXrZnFENari"
      },
      "execution_count": null,
      "outputs": []
    },
    {
      "cell_type": "markdown",
      "source": [
        "Autor: Jonatas Anderson Liberato\n",
        "Créditos: Eduardo Rocha"
      ],
      "metadata": {
        "id": "prFGYREzNgyO"
      }
    }
  ]
}